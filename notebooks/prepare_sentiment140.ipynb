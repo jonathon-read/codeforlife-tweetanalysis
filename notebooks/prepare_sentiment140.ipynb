{
 "cells": [
  {
   "cell_type": "markdown",
   "metadata": {},
   "source": [
    "# Sentiment140 preprocessing and feature extraction"
   ]
  },
  {
   "cell_type": "code",
   "execution_count": 1,
   "metadata": {},
   "outputs": [],
   "source": [
    "%matplotlib inline\n",
    "\n",
    "import dask\n",
    "import dask.dataframe\n",
    "import dask.diagnostics\n",
    "import dask.multiprocessing\n",
    "import langid\n",
    "import os\n",
    "import pandas as pd\n",
    "import matplotlib\n",
    "from urllib.request import urlretrieve\n",
    "import spacy\n",
    "import ssl\n",
    "import sys\n",
    "from zipfile import ZipFile\n",
    "from tqdm import tqdm\n",
    "\n",
    "matplotlib.rcParams.update({\n",
    "    'figure.figsize': (20, 9),\n",
    "    'font.size': 18,\n",
    "    'grid.color': 'k',\n",
    "    'grid.linestyle': ':',\n",
    "    'grid.linewidth': 0.5,\n",
    "    'lines.linewidth': 3\n",
    "})\n",
    "\n",
    "LOCAL_PATH = '../data/sentiment140'\n",
    "PATH_TO_ARCHIVE = os.path.join(LOCAL_PATH, 'archive.zip')\n",
    "\n",
    "os.makedirs(LOCAL_PATH, exist_ok=True)"
   ]
  },
  {
   "cell_type": "markdown",
   "metadata": {},
   "source": [
    "## Download archive"
   ]
  },
  {
   "cell_type": "code",
   "execution_count": 2,
   "metadata": {},
   "outputs": [
    {
     "name": "stderr",
     "output_type": "stream",
     "text": [
      "81379328it [00:34, 2362472.59it/s]                              \n"
     ]
    }
   ],
   "source": [
    "with tqdm() as progress:\n",
    "    def report(count, blockSize, totalSize):\n",
    "        progress.total = totalSize\n",
    "        progress.update(blockSize)\n",
    "    ssl._create_default_https_context = ssl._create_unverified_context\n",
    "    urlretrieve('http://cs.stanford.edu/people/alecmgo/trainingandtestdata.zip',\n",
    "                PATH_TO_ARCHIVE, reporthook=report)"
   ]
  },
  {
   "cell_type": "markdown",
   "metadata": {},
   "source": [
    "## Extract and tidy data"
   ]
  },
  {
   "cell_type": "code",
   "execution_count": 3,
   "metadata": {},
   "outputs": [],
   "source": [
    "with ZipFile(PATH_TO_ARCHIVE) as zip_file:\n",
    "    df = pd.read_csv(zip_file.open('training.1600000.processed.noemoticon.csv'),\n",
    "                    encoding='latin1', names=['target', 'id', 'date', 'flag', 'user', 'tweet'])\n",
    "\n",
    "df['sentiment'] = df['target'].map({0: 'negative',\n",
    "                                    2: 'neutral',\n",
    "                                    4: 'positive'})\n",
    "\n",
    "df = df[['sentiment', 'user', 'tweet']]"
   ]
  },
  {
   "cell_type": "markdown",
   "metadata": {},
   "source": [
    "## Remove tweets by robots"
   ]
  },
  {
   "cell_type": "code",
   "execution_count": 4,
   "metadata": {},
   "outputs": [
    {
     "data": {
      "text/plain": [
       "<matplotlib.axes._subplots.AxesSubplot at 0x33d9d69e8>"
      ]
     },
     "execution_count": 4,
     "metadata": {},
     "output_type": "execute_result"
    },
    {
     "data": {
      "image/png": "[encoded data removed]",
      "text/plain": [
       "<matplotlib.figure.Figure at 0x108328320>"
      ]
     },
     "metadata": {},
     "output_type": "display_data"
    }
   ],
   "source": [
    "tweets_per_user = df.groupby('user')['tweet'].count()\n",
    "tweets_per_user.plot.hist(log=True, bins=100)"
   ]
  },
  {
   "cell_type": "code",
   "execution_count": 5,
   "metadata": {},
   "outputs": [
    {
     "data": {
      "text/plain": [
       "user\n",
       "lost_dog           549\n",
       "webwoke            345\n",
       "tweetpet           310\n",
       "SallytheShizzle    281\n",
       "VioletsCRUK        279\n",
       "mcraddictal        276\n",
       "tsarnick           248\n",
       "what_bugs_u        246\n",
       "Karen230683        238\n",
       "DarkPiano          236\n",
       "SongoftheOss       227\n",
       "Jayme1988          225\n",
       "keza34             219\n",
       "ramdomthoughts     216\n",
       "shanajaca          213\n",
       "wowlew             212\n",
       "nuttychris         211\n",
       "TraceyHewins       211\n",
       "thisgoeshere       207\n",
       "Spidersamm         205\n",
       "StDAY              202\n",
       "Name: tweet, dtype: int64"
      ]
     },
     "execution_count": 5,
     "metadata": {},
     "output_type": "execute_result"
    }
   ],
   "source": [
    "tweets_per_user[tweets_per_user > 200].sort_values(ascending=False)"
   ]
  },
  {
   "cell_type": "code",
   "execution_count": 6,
   "metadata": {},
   "outputs": [
    {
     "data": {
      "text/plain": [
       "69350     @LadyHilary I am lost. Please help me find a g...\n",
       "55096     @adevenish I am lost. Please help me find a go...\n",
       "165655    @seth_cohen I am lost. Please help me find a g...\n",
       "284455    @ValenciaBlog I am lost. Please help me find a...\n",
       "627166    @pearlgirl I am lost. Please help me find a go...\n",
       "517151    @lkl I am lost. Please help me find a good home. \n",
       "772993    @kgtv I am lost. Please help me find a good ho...\n",
       "610551    @exmouthjournal I am lost. Please help me find...\n",
       "743982    @fannyrust I am lost. Please help me find a go...\n",
       "269948    @blueskyrei I am lost. Please help me find a g...\n",
       "Name: tweet, dtype: object"
      ]
     },
     "execution_count": 6,
     "metadata": {},
     "output_type": "execute_result"
    }
   ],
   "source": [
    "df[df['user'] == 'lost_dog']['tweet'].sample(10)"
   ]
  },
  {
   "cell_type": "code",
   "execution_count": 7,
   "metadata": {},
   "outputs": [
    {
     "data": {
      "text/plain": [
       "428956     damn... drop by 14  63. webhostingtalk.com\n",
       "366601               auchh, drop by 1  (20)reddit.com\n",
       "380218       ohh s**t... drop by 2  97. mybloglog.com\n",
       "416753         damn... drop by 1  46. blogtoplist.com\n",
       "423880       aughh... drop by 1  68. prankoffate.info\n",
       "443471          holys**t drop by 1  23. slideboom.com\n",
       "408365             F**K! drop by 2  80. seolithic.com\n",
       "384954        owww god, drop by 1  91. yehiapress.org\n",
       "452801           damn... drop by 8  84. seolithic.com\n",
       "443541    damn... drop by 1  27. 1888pressrelease.com\n",
       "Name: tweet, dtype: object"
      ]
     },
     "execution_count": 7,
     "metadata": {},
     "output_type": "execute_result"
    }
   ],
   "source": [
    "df[df['user'] == 'webwoke']['tweet'].sample(10)"
   ]
  },
  {
   "cell_type": "code",
   "execution_count": 8,
   "metadata": {},
   "outputs": [
    {
     "data": {
      "text/plain": [
       "47315                      @wtfwouldericado  Clean Me!\n",
       "46516                            @NBAgrl914  Clean Me!\n",
       "40576                           @jessicas55  Clean Me!\n",
       "46471                             @SRBMALIK  Clean Me!\n",
       "46486                            @aubinerie  Clean Me!\n",
       "46469                               @eDTGCa  Clean Me!\n",
       "43239                               @QeJP2B  Clean Me!\n",
       "43181                          @blacksmoke3  Clean Me!\n",
       "39761                               @jimhat  Clean Me!\n",
       "40545                           @tweetchild  Clean Me!\n",
       "43229                          @Noprisoners  Clean Me!\n",
       "46511                        @Kathrynsweets  Clean Me!\n",
       "43170                          @Mzcertified  Clean Me!\n",
       "47303                           @jessicas55  Clean Me!\n",
       "46482                          @blacksmoke3  Clean Me!\n",
       "31976                          @bjwheeler_2  Clean Me!\n",
       "27011                           @pcnlove125  Clean Me!\n",
       "43222                              @1luv633  Clean Me!\n",
       "47308                             @wdreamer  Clean Me!\n",
       "40794    @Lissa121   hungry. Type 'feed' to feed me...\n",
       "Name: tweet, dtype: object"
      ]
     },
     "execution_count": 8,
     "metadata": {},
     "output_type": "execute_result"
    }
   ],
   "source": [
    "df[df['user'] == 'tweetpet']['tweet'].sample(20)"
   ]
  },
  {
   "cell_type": "code",
   "execution_count": 9,
   "metadata": {},
   "outputs": [
    {
     "data": {
      "text/plain": [
       "1042168    @ddlovato if I sent you a twitpic link would y...\n",
       "648530     I have to TIP the cd onto itunes cause it's no...\n",
       "1217051                      @LuckyUrWithAmy i got this one \n",
       "508591     @OfficialAS haha suuuuure... i mena I'm happy ...\n",
       "345296     @hot30 http://twitpic.com/6glx9 - I want Andre...\n",
       "688394     I'm hungry. GAAAAAAAAH. No freaking dinner ......\n",
       "1324744    @MAGGIECHICKEN meh same diff. Just still with ...\n",
       "739291     @jonasbrothers so in 12 days time... you boys ...\n",
       "1330279    @OfficialAS just cry then  let the emotion out...\n",
       "428309     @OfficialAS http://twitpic.com/6tn2j - oooh st...\n",
       "227176     @OfficialAS haha yeah... but i need it to get ...\n",
       "1153573    @OfficialAS nawww  ily!!   i have a class tomo...\n",
       "238683     @angelapanagacos you...but...but...   naaaaaaa...\n",
       "1524116    @OfficialAS and if people DONT remember...they...\n",
       "141880     @angelapanagacos shit what about adge?!! WE CA...\n",
       "432507                               barking dogs... AGAIN! \n",
       "776320     @MariaBernal ooh special magazine!!  We get 'e...\n",
       "1376492    @OfficialAS oh. LMAO well...i usually don't ca...\n",
       "601043     @stephanie_x_x i wanna do the 40 hour famine t...\n",
       "680574     @OfficialAS it doesn't get an upload location ...\n",
       "Name: tweet, dtype: object"
      ]
     },
     "execution_count": 9,
     "metadata": {},
     "output_type": "execute_result"
    }
   ],
   "source": [
    "df[df['user'] == 'SallytheShizzle']['tweet'].sample(20)"
   ]
  },
  {
   "cell_type": "code",
   "execution_count": 4,
   "metadata": {},
   "outputs": [],
   "source": [
    "df = df[~df.user.isin(['lost_dog', 'webwoke', 'tweetpet'])]"
   ]
  },
  {
   "cell_type": "markdown",
   "metadata": {},
   "source": [
    "## Filter non-English tweets"
   ]
  },
  {
   "cell_type": "code",
   "execution_count": 5,
   "metadata": {},
   "outputs": [
    {
     "name": "stdout",
     "output_type": "stream",
     "text": [
      "[########################################] | 100% Completed | 11min  6.6s\n"
     ]
    }
   ],
   "source": [
    "dd = dask.dataframe.from_pandas(df, npartitions=100)\n",
    "with dask.diagnostics.ProgressBar():\n",
    "    df['langid'] = dd.map_partitions(\n",
    "        lambda dataframe: dataframe.apply(\n",
    "            (lambda row: langid.classify(row['tweet'])[0]), axis=1)) \\\n",
    "        .compute(get=dask.multiprocessing.get)\n",
    "\n",
    "df = df[df['langid'] == 'en'].reindex()"
   ]
  },
  {
   "cell_type": "markdown",
   "metadata": {},
   "source": [
    "## Process with spaCy"
   ]
  },
  {
   "cell_type": "code",
   "execution_count": 6,
   "metadata": {},
   "outputs": [],
   "source": [
    "nlp = spacy.load('en_core_web_lg')"
   ]
  },
  {
   "cell_type": "code",
   "execution_count": 7,
   "metadata": {},
   "outputs": [],
   "source": [
    "docs = list(nlp.pipe(df['tweet'], disable=['parser', 'ner']))"
   ]
  },
  {
   "cell_type": "code",
   "execution_count": 9,
   "metadata": {},
   "outputs": [],
   "source": [
    "def get_features(doc):\n",
    "    features = list()\n",
    "    for token in doc:\n",
    "        if token.lemma_.startswith('@'):\n",
    "            features.append(('__HANDLE__', 'PROPN'))\n",
    "        elif 'http' in token.lemma_ or 'www' in token.lemma_:\n",
    "            features.append(('__URL__', '__URL__'))\n",
    "        else:\n",
    "            features.append((token.lemma_, token.tag_))\n",
    "    return features\n",
    "    \n",
    "df['features'] = [get_features(doc) for doc in docs]"
   ]
  },
  {
   "cell_type": "code",
   "execution_count": 20,
   "metadata": {},
   "outputs": [],
   "source": [
    "df.index.rename('identifier', inplace=True)\n",
    "df.to_csv(os.path.join(LOCAL_PATH, 'tokens.csv'))"
   ]
  },
  {
   "cell_type": "code",
   "execution_count": 11,
   "metadata": {},
   "outputs": [
    {
     "name": "stderr",
     "output_type": "stream",
     "text": [
      "/Users/jonathon.read/anaconda/lib/python3.5/site-packages/pandas/core/generic.py:1471: PerformanceWarning: \n",
      "your performance may suffer as PyTables will pickle object types that it cannot\n",
      "map directly to c-types [inferred_type->mixed,key->block0_values] [items->['sentiment', 'user', 'tweet', 'langid', 'features']]\n",
      "\n",
      "  return pytables.to_hdf(path_or_buf, key, self, **kwargs)\n"
     ]
    }
   ],
   "source": [
    "df.to_hdf(os.path.join(LOCAL_PATH, 'sentiment140.h5'), 'Sentiment140')"
   ]
  },
  {
   "cell_type": "code",
   "execution_count": null,
   "metadata": {},
   "outputs": [],
   "source": []
  }
 ],
 "metadata": {
  "kernelspec": {
   "display_name": "Python 3",
   "language": "python",
   "name": "python3"
  },
  "language_info": {
   "codemirror_mode": {
    "name": "ipython",
    "version": 3
   },
   "file_extension": ".py",
   "mimetype": "text/x-python",
   "name": "python",
   "nbconvert_exporter": "python",
   "pygments_lexer": "ipython3",
   "version": "3.5.1"
  }
 },
 "nbformat": 4,
 "nbformat_minor": 2
}
