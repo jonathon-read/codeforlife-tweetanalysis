{
 "cells": [
  {
   "cell_type": "markdown",
   "metadata": {},
   "source": [
    "# Sentiment140 preprocessing and feature extraction"
   ]
  },
  {
   "cell_type": "code",
   "execution_count": 1,
   "metadata": {},
   "outputs": [],
   "source": [
    "import dask\n",
    "import dask.dataframe\n",
    "import dask.diagnostics\n",
    "import dask.multiprocessing\n",
    "import langid\n",
    "import os\n",
    "import pandas as pd\n",
    "from urllib.request import urlretrieve\n",
    "import spacy\n",
    "import ssl\n",
    "import sys\n",
    "from tqdm import tqdm_notebook as tqdm\n",
    "from zipfile import ZipFile\n",
    "\n",
    "LOCAL_PATH = '../data/sentiment140'\n",
    "PATH_TO_ARCHIVE = os.path.join(LOCAL_PATH, 'archive.zip')\n",
    "\n",
    "os.makedirs(LOCAL_PATH, exist_ok=True)"
   ]
  },
  {
   "cell_type": "markdown",
   "metadata": {},
   "source": [
    "## Download archive"
   ]
  },
  {
   "cell_type": "code",
   "execution_count": 2,
   "metadata": {},
   "outputs": [
    {
     "data": {
      "application/vnd.jupyter.widget-view+json": {
       "model_id": "00f1597b60ef4736b2e00ee82da3ca9b",
       "version_major": 2,
       "version_minor": 0
      },
      "text/html": [
       "<p>Failed to display Jupyter Widget of type <code>HBox</code>.</p>\n",
       "<p>\n",
       "  If you're reading this message in the Jupyter Notebook or JupyterLab Notebook, it may mean\n",
       "  that the widgets JavaScript is still loading. If this message persists, it\n",
       "  likely means that the widgets JavaScript library is either not installed or\n",
       "  not enabled. See the <a href=\"https://ipywidgets.readthedocs.io/en/stable/user_install.html\">Jupyter\n",
       "  Widgets Documentation</a> for setup instructions.\n",
       "</p>\n",
       "<p>\n",
       "  If you're reading this message in another frontend (for example, a static\n",
       "  rendering on GitHub or <a href=\"https://nbviewer.jupyter.org/\">NBViewer</a>),\n",
       "  it may mean that your frontend doesn't currently support widgets.\n",
       "</p>\n"
      ],
      "text/plain": [
       "HBox(children=(IntProgress(value=1, bar_style='info', max=1), HTML(value='')))"
      ]
     },
     "metadata": {},
     "output_type": "display_data"
    },
    {
     "name": "stdout",
     "output_type": "stream",
     "text": [
      "\n"
     ]
    }
   ],
   "source": [
    "with tqdm() as progress:\n",
    "    def report(count, blockSize, totalSize):\n",
    "        progress.total = totalSize\n",
    "        progress.update(blockSize)\n",
    "    ssl._create_default_https_context = ssl._create_unverified_context\n",
    "    urlretrieve('http://cs.stanford.edu/people/alecmgo/trainingandtestdata.zip',\n",
    "                PATH_TO_ARCHIVE, reporthook=report)"
   ]
  },
  {
   "cell_type": "markdown",
   "metadata": {},
   "source": [
    "## Extract and tidy data"
   ]
  },
  {
   "cell_type": "code",
   "execution_count": 3,
   "metadata": {},
   "outputs": [],
   "source": [
    "with ZipFile(PATH_TO_ARCHIVE) as zip_file:\n",
    "    df = pd.read_csv(zip_file.open('training.1600000.processed.noemoticon.csv'),\n",
    "                    encoding='latin1', names=['target', 'id', 'date', 'flag', 'user', 'tweet'])\n",
    "\n",
    "df['sentiment'] = df['target'].map({0: 'negative',\n",
    "                                    2: 'neutral',\n",
    "                                    4: 'positive'})\n",
    "\n",
    "df = df[['sentiment', 'user', 'tweet']]"
   ]
  },
  {
   "cell_type": "markdown",
   "metadata": {},
   "source": [
    "## Filter non-English tweets"
   ]
  },
  {
   "cell_type": "code",
   "execution_count": 4,
   "metadata": {},
   "outputs": [
    {
     "name": "stdout",
     "output_type": "stream",
     "text": [
      "[########################################] | 100% Completed | 13min 48.5s\n"
     ]
    }
   ],
   "source": [
    "dd = dask.dataframe.from_pandas(df, npartitions=100)\n",
    "with dask.diagnostics.ProgressBar():\n",
    "    df['langid'] = dd.map_partitions(\n",
    "        lambda dataframe: dataframe.apply(\n",
    "            (lambda row: langid.classify(row['tweet'])[0]), axis=1)) \\\n",
    "        .compute(get=dask.multiprocessing.get)\n",
    "\n",
    "df = df[df['langid'] == 'en'].reindex()"
   ]
  },
  {
   "cell_type": "markdown",
   "metadata": {},
   "source": [
    "## Process with spaCy"
   ]
  },
  {
   "cell_type": "code",
   "execution_count": null,
   "metadata": {},
   "outputs": [
    {
     "data": {
      "application/vnd.jupyter.widget-view+json": {
       "model_id": "c5e40e18f2314bb9b9b593dd2c514f91",
       "version_major": 2,
       "version_minor": 0
      },
      "text/html": [
       "<p>Failed to display Jupyter Widget of type <code>HBox</code>.</p>\n",
       "<p>\n",
       "  If you're reading this message in the Jupyter Notebook or JupyterLab Notebook, it may mean\n",
       "  that the widgets JavaScript is still loading. If this message persists, it\n",
       "  likely means that the widgets JavaScript library is either not installed or\n",
       "  not enabled. See the <a href=\"https://ipywidgets.readthedocs.io/en/stable/user_install.html\">Jupyter\n",
       "  Widgets Documentation</a> for setup instructions.\n",
       "</p>\n",
       "<p>\n",
       "  If you're reading this message in another frontend (for example, a static\n",
       "  rendering on GitHub or <a href=\"https://nbviewer.jupyter.org/\">NBViewer</a>),\n",
       "  it may mean that your frontend doesn't currently support widgets.\n",
       "</p>\n"
      ],
      "text/plain": [
       "HBox(children=(IntProgress(value=0, max=1521182), HTML(value='')))"
      ]
     },
     "metadata": {},
     "output_type": "display_data"
    },
    {
     "name": "stdout",
     "output_type": "stream",
     "text": [
      "\n"
     ]
    }
   ],
   "source": [
    "nlp = spacy.load('en_core_web_lg')\n",
    "df['doc'] = list(tqdm(nlp.pipe(df['tweet'], n_threads=-1), total=len(df)))"
   ]
  },
  {
   "cell_type": "code",
   "execution_count": null,
   "metadata": {},
   "outputs": [],
   "source": []
  }
 ],
 "metadata": {
  "kernelspec": {
   "display_name": "Python 3",
   "language": "python",
   "name": "python3"
  },
  "language_info": {
   "codemirror_mode": {
    "name": "ipython",
    "version": 3
   },
   "file_extension": ".py",
   "mimetype": "text/x-python",
   "name": "python",
   "nbconvert_exporter": "python",
   "pygments_lexer": "ipython3",
   "version": "3.5.1"
  }
 },
 "nbformat": 4,
 "nbformat_minor": 2
}
